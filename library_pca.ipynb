{
 "cells": [
  {
   "cell_type": "code",
   "execution_count": 4,
   "metadata": {
    "collapsed": true,
    "ExecuteTime": {
     "end_time": "2024-03-03T19:29:01.058712Z",
     "start_time": "2024-03-03T19:29:01.046826Z"
    }
   },
   "outputs": [],
   "source": [
    "from sklearn.linear_model import LogisticRegression\n",
    "from sklearn.tree import DecisionTreeClassifier\n",
    "from sklearn.model_selection import train_test_split\n",
    "from sklearn.decomposition import PCA\n",
    "\n",
    "# evaluation metrics\n",
    "from sklearn.metrics import f1_score\n",
    "# datasets\n",
    "from sklearn.datasets import fetch_openml, fetch_20newsgroups\n",
    "import pandas as pd\n",
    "import numpy as np"
   ]
  },
  {
   "cell_type": "code",
   "execution_count": 2,
   "outputs": [
    {
     "name": "stderr",
     "output_type": "stream",
     "text": [
      "/Users/jay/opt/anaconda3/envs/USML/lib/python3.8/site-packages/sklearn/datasets/_openml.py:1022: FutureWarning: The default value of `parser` will change from `'liac-arff'` to `'auto'` in 1.4. You can set `parser='auto'` to silence this warning. Therefore, an `ImportError` will be raised from 1.4 if the dataset is dense and pandas is not installed. Note that the pandas parser may return different data types. See the Notes Section in fetch_openml's API doc for details.\n",
      "  warn(\n"
     ]
    }
   ],
   "source": [
    "mnist = fetch_openml(\"mnist_784\")\n",
    "mnist_X = mnist.data.to_numpy()/255.0\n",
    "mnist_y = mnist.target"
   ],
   "metadata": {
    "collapsed": false,
    "ExecuteTime": {
     "end_time": "2024-03-03T19:27:24.787890Z",
     "start_time": "2024-03-03T19:26:38.382564Z"
    }
   }
  },
  {
   "cell_type": "code",
   "execution_count": 3,
   "outputs": [],
   "source": [
    "spambase = pd.read_csv(\"spambase/spambase.data\", delimiter=\",\", header=None)\n",
    "# normalise spambase dataset\n",
    "for i in spambase.columns[:-1]:\n",
    "    spambase[i] = (spambase[i] - spambase[i].mean())/spambase[i].std()"
   ],
   "metadata": {
    "collapsed": false,
    "ExecuteTime": {
     "end_time": "2024-03-03T19:27:24.876608Z",
     "start_time": "2024-03-03T19:27:24.789606Z"
    }
   }
  },
  {
   "cell_type": "markdown",
   "source": [
    "# Part A) Running library PCA on MNIST with D = 5 features and D = 20 features"
   ],
   "metadata": {
    "collapsed": false
   }
  },
  {
   "cell_type": "code",
   "execution_count": 5,
   "outputs": [],
   "source": [
    "# dimensionality reduction\n",
    "pca_5d = PCA(n_components=5)\n",
    "mnist_X = pca_5d.fit_transform(mnist_X)\n",
    "# train/test split\n",
    "mnist_X_train, mnist_X_test, mnist_y_train, mnist_y_test = train_test_split(mnist_X, mnist_y, stratify=mnist_y, test_size=0.2)"
   ],
   "metadata": {
    "collapsed": false,
    "ExecuteTime": {
     "end_time": "2024-03-03T19:29:44.521728Z",
     "start_time": "2024-03-03T19:29:42.408202Z"
    }
   }
  },
  {
   "cell_type": "code",
   "execution_count": 6,
   "outputs": [
    {
     "data": {
      "text/plain": "LogisticRegression()",
      "text/html": "<style>#sk-container-id-1 {color: black;}#sk-container-id-1 pre{padding: 0;}#sk-container-id-1 div.sk-toggleable {background-color: white;}#sk-container-id-1 label.sk-toggleable__label {cursor: pointer;display: block;width: 100%;margin-bottom: 0;padding: 0.3em;box-sizing: border-box;text-align: center;}#sk-container-id-1 label.sk-toggleable__label-arrow:before {content: \"▸\";float: left;margin-right: 0.25em;color: #696969;}#sk-container-id-1 label.sk-toggleable__label-arrow:hover:before {color: black;}#sk-container-id-1 div.sk-estimator:hover label.sk-toggleable__label-arrow:before {color: black;}#sk-container-id-1 div.sk-toggleable__content {max-height: 0;max-width: 0;overflow: hidden;text-align: left;background-color: #f0f8ff;}#sk-container-id-1 div.sk-toggleable__content pre {margin: 0.2em;color: black;border-radius: 0.25em;background-color: #f0f8ff;}#sk-container-id-1 input.sk-toggleable__control:checked~div.sk-toggleable__content {max-height: 200px;max-width: 100%;overflow: auto;}#sk-container-id-1 input.sk-toggleable__control:checked~label.sk-toggleable__label-arrow:before {content: \"▾\";}#sk-container-id-1 div.sk-estimator input.sk-toggleable__control:checked~label.sk-toggleable__label {background-color: #d4ebff;}#sk-container-id-1 div.sk-label input.sk-toggleable__control:checked~label.sk-toggleable__label {background-color: #d4ebff;}#sk-container-id-1 input.sk-hidden--visually {border: 0;clip: rect(1px 1px 1px 1px);clip: rect(1px, 1px, 1px, 1px);height: 1px;margin: -1px;overflow: hidden;padding: 0;position: absolute;width: 1px;}#sk-container-id-1 div.sk-estimator {font-family: monospace;background-color: #f0f8ff;border: 1px dotted black;border-radius: 0.25em;box-sizing: border-box;margin-bottom: 0.5em;}#sk-container-id-1 div.sk-estimator:hover {background-color: #d4ebff;}#sk-container-id-1 div.sk-parallel-item::after {content: \"\";width: 100%;border-bottom: 1px solid gray;flex-grow: 1;}#sk-container-id-1 div.sk-label:hover label.sk-toggleable__label {background-color: #d4ebff;}#sk-container-id-1 div.sk-serial::before {content: \"\";position: absolute;border-left: 1px solid gray;box-sizing: border-box;top: 0;bottom: 0;left: 50%;z-index: 0;}#sk-container-id-1 div.sk-serial {display: flex;flex-direction: column;align-items: center;background-color: white;padding-right: 0.2em;padding-left: 0.2em;position: relative;}#sk-container-id-1 div.sk-item {position: relative;z-index: 1;}#sk-container-id-1 div.sk-parallel {display: flex;align-items: stretch;justify-content: center;background-color: white;position: relative;}#sk-container-id-1 div.sk-item::before, #sk-container-id-1 div.sk-parallel-item::before {content: \"\";position: absolute;border-left: 1px solid gray;box-sizing: border-box;top: 0;bottom: 0;left: 50%;z-index: -1;}#sk-container-id-1 div.sk-parallel-item {display: flex;flex-direction: column;z-index: 1;position: relative;background-color: white;}#sk-container-id-1 div.sk-parallel-item:first-child::after {align-self: flex-end;width: 50%;}#sk-container-id-1 div.sk-parallel-item:last-child::after {align-self: flex-start;width: 50%;}#sk-container-id-1 div.sk-parallel-item:only-child::after {width: 0;}#sk-container-id-1 div.sk-dashed-wrapped {border: 1px dashed gray;margin: 0 0.4em 0.5em 0.4em;box-sizing: border-box;padding-bottom: 0.4em;background-color: white;}#sk-container-id-1 div.sk-label label {font-family: monospace;font-weight: bold;display: inline-block;line-height: 1.2em;}#sk-container-id-1 div.sk-label-container {text-align: center;}#sk-container-id-1 div.sk-container {/* jupyter's `normalize.less` sets `[hidden] { display: none; }` but bootstrap.min.css set `[hidden] { display: none !important; }` so we also need the `!important` here to be able to override the default hidden behavior on the sphinx rendered scikit-learn.org. See: https://github.com/scikit-learn/scikit-learn/issues/21755 */display: inline-block !important;position: relative;}#sk-container-id-1 div.sk-text-repr-fallback {display: none;}</style><div id=\"sk-container-id-1\" class=\"sk-top-container\"><div class=\"sk-text-repr-fallback\"><pre>LogisticRegression()</pre><b>In a Jupyter environment, please rerun this cell to show the HTML representation or trust the notebook. <br />On GitHub, the HTML representation is unable to render, please try loading this page with nbviewer.org.</b></div><div class=\"sk-container\" hidden><div class=\"sk-item\"><div class=\"sk-estimator sk-toggleable\"><input class=\"sk-toggleable__control sk-hidden--visually\" id=\"sk-estimator-id-1\" type=\"checkbox\" checked><label for=\"sk-estimator-id-1\" class=\"sk-toggleable__label sk-toggleable__label-arrow\">LogisticRegression</label><div class=\"sk-toggleable__content\"><pre>LogisticRegression()</pre></div></div></div></div></div>"
     },
     "execution_count": 6,
     "metadata": {},
     "output_type": "execute_result"
    }
   ],
   "source": [
    "log_reg = LogisticRegression()\n",
    "log_reg.fit(mnist_X_train, mnist_y_train)"
   ],
   "metadata": {
    "collapsed": false,
    "ExecuteTime": {
     "end_time": "2024-03-03T19:29:56.148083Z",
     "start_time": "2024-03-03T19:29:54.674762Z"
    }
   }
  },
  {
   "cell_type": "code",
   "execution_count": 7,
   "outputs": [
    {
     "name": "stdout",
     "output_type": "stream",
     "text": [
      "0.6641745856549955\n"
     ]
    }
   ],
   "source": [
    "y_pred = log_reg.predict(mnist_X_test)\n",
    "print(f1_score(mnist_y_test, y_pred, average='weighted'))"
   ],
   "metadata": {
    "collapsed": false,
    "ExecuteTime": {
     "end_time": "2024-03-03T19:30:04.081493Z",
     "start_time": "2024-03-03T19:30:03.931376Z"
    }
   }
  },
  {
   "cell_type": "code",
   "execution_count": 9,
   "outputs": [
    {
     "data": {
      "text/plain": "array([[ 1.75575028, -0.22504774,  0.13262566, -0.56086485, -1.38167439],\n       [-2.64837245, -1.53650299, -0.08964514,  0.30065122,  0.1573471 ],\n       [ 0.41397092, -1.20156242,  0.56544867,  1.46649083,  0.80349301],\n       [ 0.25335601, -1.24466477, -0.74038263, -0.96269532, -0.15444827],\n       [-0.39936297,  1.85995492,  0.3359588 ,  0.64710214,  0.58895795],\n       [ 0.68669769, -0.29065187, -0.34342015, -0.9578122 , -0.87141915],\n       [ 0.43714315, -0.41637058,  0.67181149,  1.48214844,  0.67014984],\n       [-0.49665223,  1.84504974, -0.26334841, -0.70450665, -0.94491153],\n       [ 0.21217896, -0.42541754, -0.08575062, -0.39161344,  0.80667374],\n       [-0.21470936,  1.63521325, -0.18329767, -0.31890018,  0.32583172]])"
     },
     "execution_count": 9,
     "metadata": {},
     "output_type": "execute_result"
    }
   ],
   "source": [
    "log_reg.coef_"
   ],
   "metadata": {
    "collapsed": false,
    "ExecuteTime": {
     "end_time": "2024-03-03T19:30:40.419079Z",
     "start_time": "2024-03-03T19:30:40.411688Z"
    }
   }
  },
  {
   "cell_type": "code",
   "execution_count": 11,
   "outputs": [
    {
     "data": {
      "text/plain": "<Axes: ylabel='Feature'>"
     },
     "execution_count": 11,
     "metadata": {},
     "output_type": "execute_result"
    },
    {
     "data": {
      "text/plain": "<Figure size 1000x600 with 1 Axes>",
      "image/png": "[encoded data removed]"
     },
     "metadata": {},
     "output_type": "display_data"
    }
   ],
   "source": [
    "avg_importance = np.mean(np.abs(log_reg.coef_), axis=0)\n",
    "feature_importance = pd.DataFrame({'Feature': np.arange(log_reg.coef_.shape[1]), 'Importance': avg_importance})\n",
    "feature_importance = feature_importance.sort_values('Importance', ascending=False)\n",
    "feature_importance.plot(x='Feature', y='Importance', kind='barh', figsize=(10, 6))"
   ],
   "metadata": {
    "collapsed": false,
    "ExecuteTime": {
     "end_time": "2024-03-03T19:31:41.215752Z",
     "start_time": "2024-03-03T19:31:40.988065Z"
    }
   }
  },
  {
   "cell_type": "code",
   "execution_count": 17,
   "outputs": [],
   "source": [
    "# for 20 dimensions\n",
    "# dimensionality reduction\n",
    "pca_20d = PCA(n_components=20)\n",
    "mnist_X = pca_20d.fit_transform(mnist.data.to_numpy()/255.0)\n",
    "# train/test split\n",
    "mnist_X_train, mnist_X_test, mnist_y_train, mnist_y_test = train_test_split(mnist_X, mnist_y, stratify=mnist_y, test_size=0.2)"
   ],
   "metadata": {
    "collapsed": false,
    "ExecuteTime": {
     "end_time": "2024-03-03T19:33:47.175974Z",
     "start_time": "2024-03-03T19:33:43.647287Z"
    }
   }
  },
  {
   "cell_type": "code",
   "execution_count": 18,
   "outputs": [
    {
     "name": "stderr",
     "output_type": "stream",
     "text": [
      "/Users/jay/opt/anaconda3/envs/USML/lib/python3.8/site-packages/sklearn/linear_model/_logistic.py:460: ConvergenceWarning: lbfgs failed to converge (status=1):\n",
      "STOP: TOTAL NO. of ITERATIONS REACHED LIMIT.\n",
      "\n",
      "Increase the number of iterations (max_iter) or scale the data as shown in:\n",
      "    https://scikit-learn.org/stable/modules/preprocessing.html\n",
      "Please also refer to the documentation for alternative solver options:\n",
      "    https://scikit-learn.org/stable/modules/linear_model.html#logistic-regression\n",
      "  n_iter_i = _check_optimize_result(\n"
     ]
    },
    {
     "data": {
      "text/plain": "LogisticRegression()",
      "text/html": "<style>#sk-container-id-3 {color: black;}#sk-container-id-3 pre{padding: 0;}#sk-container-id-3 div.sk-toggleable {background-color: white;}#sk-container-id-3 label.sk-toggleable__label {cursor: pointer;display: block;width: 100%;margin-bottom: 0;padding: 0.3em;box-sizing: border-box;text-align: center;}#sk-container-id-3 label.sk-toggleable__label-arrow:before {content: \"▸\";float: left;margin-right: 0.25em;color: #696969;}#sk-container-id-3 label.sk-toggleable__label-arrow:hover:before {color: black;}#sk-container-id-3 div.sk-estimator:hover label.sk-toggleable__label-arrow:before {color: black;}#sk-container-id-3 div.sk-toggleable__content {max-height: 0;max-width: 0;overflow: hidden;text-align: left;background-color: #f0f8ff;}#sk-container-id-3 div.sk-toggleable__content pre {margin: 0.2em;color: black;border-radius: 0.25em;background-color: #f0f8ff;}#sk-container-id-3 input.sk-toggleable__control:checked~div.sk-toggleable__content {max-height: 200px;max-width: 100%;overflow: auto;}#sk-container-id-3 input.sk-toggleable__control:checked~label.sk-toggleable__label-arrow:before {content: \"▾\";}#sk-container-id-3 div.sk-estimator input.sk-toggleable__control:checked~label.sk-toggleable__label {background-color: #d4ebff;}#sk-container-id-3 div.sk-label input.sk-toggleable__control:checked~label.sk-toggleable__label {background-color: #d4ebff;}#sk-container-id-3 input.sk-hidden--visually {border: 0;clip: rect(1px 1px 1px 1px);clip: rect(1px, 1px, 1px, 1px);height: 1px;margin: -1px;overflow: hidden;padding: 0;position: absolute;width: 1px;}#sk-container-id-3 div.sk-estimator {font-family: monospace;background-color: #f0f8ff;border: 1px dotted black;border-radius: 0.25em;box-sizing: border-box;margin-bottom: 0.5em;}#sk-container-id-3 div.sk-estimator:hover {background-color: #d4ebff;}#sk-container-id-3 div.sk-parallel-item::after {content: \"\";width: 100%;border-bottom: 1px solid gray;flex-grow: 1;}#sk-container-id-3 div.sk-label:hover label.sk-toggleable__label {background-color: #d4ebff;}#sk-container-id-3 div.sk-serial::before {content: \"\";position: absolute;border-left: 1px solid gray;box-sizing: border-box;top: 0;bottom: 0;left: 50%;z-index: 0;}#sk-container-id-3 div.sk-serial {display: flex;flex-direction: column;align-items: center;background-color: white;padding-right: 0.2em;padding-left: 0.2em;position: relative;}#sk-container-id-3 div.sk-item {position: relative;z-index: 1;}#sk-container-id-3 div.sk-parallel {display: flex;align-items: stretch;justify-content: center;background-color: white;position: relative;}#sk-container-id-3 div.sk-item::before, #sk-container-id-3 div.sk-parallel-item::before {content: \"\";position: absolute;border-left: 1px solid gray;box-sizing: border-box;top: 0;bottom: 0;left: 50%;z-index: -1;}#sk-container-id-3 div.sk-parallel-item {display: flex;flex-direction: column;z-index: 1;position: relative;background-color: white;}#sk-container-id-3 div.sk-parallel-item:first-child::after {align-self: flex-end;width: 50%;}#sk-container-id-3 div.sk-parallel-item:last-child::after {align-self: flex-start;width: 50%;}#sk-container-id-3 div.sk-parallel-item:only-child::after {width: 0;}#sk-container-id-3 div.sk-dashed-wrapped {border: 1px dashed gray;margin: 0 0.4em 0.5em 0.4em;box-sizing: border-box;padding-bottom: 0.4em;background-color: white;}#sk-container-id-3 div.sk-label label {font-family: monospace;font-weight: bold;display: inline-block;line-height: 1.2em;}#sk-container-id-3 div.sk-label-container {text-align: center;}#sk-container-id-3 div.sk-container {/* jupyter's `normalize.less` sets `[hidden] { display: none; }` but bootstrap.min.css set `[hidden] { display: none !important; }` so we also need the `!important` here to be able to override the default hidden behavior on the sphinx rendered scikit-learn.org. See: https://github.com/scikit-learn/scikit-learn/issues/21755 */display: inline-block !important;position: relative;}#sk-container-id-3 div.sk-text-repr-fallback {display: none;}</style><div id=\"sk-container-id-3\" class=\"sk-top-container\"><div class=\"sk-text-repr-fallback\"><pre>LogisticRegression()</pre><b>In a Jupyter environment, please rerun this cell to show the HTML representation or trust the notebook. <br />On GitHub, the HTML representation is unable to render, please try loading this page with nbviewer.org.</b></div><div class=\"sk-container\" hidden><div class=\"sk-item\"><div class=\"sk-estimator sk-toggleable\"><input class=\"sk-toggleable__control sk-hidden--visually\" id=\"sk-estimator-id-3\" type=\"checkbox\" checked><label for=\"sk-estimator-id-3\" class=\"sk-toggleable__label sk-toggleable__label-arrow\">LogisticRegression</label><div class=\"sk-toggleable__content\"><pre>LogisticRegression()</pre></div></div></div></div></div>"
     },
     "execution_count": 18,
     "metadata": {},
     "output_type": "execute_result"
    }
   ],
   "source": [
    "log_reg = LogisticRegression()\n",
    "log_reg.fit(mnist_X_train, mnist_y_train)"
   ],
   "metadata": {
    "collapsed": false,
    "ExecuteTime": {
     "end_time": "2024-03-03T19:34:06.200481Z",
     "start_time": "2024-03-03T19:34:04.082806Z"
    }
   }
  },
  {
   "cell_type": "code",
   "execution_count": 19,
   "outputs": [
    {
     "name": "stdout",
     "output_type": "stream",
     "text": [
      "0.8779763246442976\n"
     ]
    }
   ],
   "source": [
    "y_pred = log_reg.predict(mnist_X_test)\n",
    "print(f1_score(mnist_y_test, y_pred, average='weighted'))"
   ],
   "metadata": {
    "collapsed": false,
    "ExecuteTime": {
     "end_time": "2024-03-03T19:34:09.749226Z",
     "start_time": "2024-03-03T19:34:09.631247Z"
    }
   }
  },
  {
   "cell_type": "code",
   "execution_count": 20,
   "outputs": [
    {
     "data": {
      "text/plain": "array([[ 2.24866313e+00, -3.50209429e-01,  3.33275995e-01,\n        -4.70006283e-01, -1.45117197e+00,  1.35965448e-01,\n        -2.60594037e-01,  1.49822709e-01, -1.33311320e-01,\n         2.05520457e-01, -6.85581839e-01, -6.56572351e-01,\n        -5.30385828e-01, -1.11094758e+00, -6.84360856e-02,\n         5.71314745e-01,  1.00823816e+00,  1.04588037e+00,\n        -4.56984308e-01,  7.18299493e-02],\n       [-2.50819057e+00, -1.87117231e+00, -2.82613288e-02,\n         1.53250408e-01, -1.49876118e-01, -5.61889358e-02,\n        -1.21925820e-01, -4.04076058e-01,  2.18737871e-01,\n         1.01922789e+00, -1.81067526e-01,  6.80270373e-01,\n         1.03642828e+00,  5.61930480e-01, -2.72242950e-01,\n        -4.48449002e-01, -8.30125559e-01, -1.22850310e+00,\n         7.57354821e-01, -2.99981749e-01],\n       [ 4.21784926e-01, -1.12509713e+00,  4.44268736e-01,\n         1.18701399e+00,  6.70595909e-01,  5.54668691e-01,\n         5.48938990e-01,  7.95815250e-03, -6.57384529e-01,\n         5.72603058e-01,  4.15377382e-01, -3.09238222e-01,\n        -7.35336950e-01, -3.96953992e-01, -3.45729510e-01,\n         2.42724824e-01,  3.24881915e-01,  3.30885365e-01,\n         4.09434869e-01, -5.54003032e-01],\n       [ 1.30212380e-01, -8.85664258e-01, -9.55379142e-01,\n        -7.42368099e-01,  9.19764172e-02,  3.01158307e-01,\n         3.66248618e-01,  1.04879272e+00,  4.70472188e-02,\n        -7.96381798e-02,  4.91984760e-01,  2.52522553e-01,\n        -1.91964539e-01, -4.96326694e-02, -3.34300508e-01,\n        -5.81251028e-01, -7.19093854e-02,  2.74824950e-01,\n         2.06956244e-01, -8.91237211e-01],\n       [-3.40014519e-01,  1.56234854e+00,  1.16357892e-01,\n         5.37589432e-01,  7.37925775e-01, -4.46936026e-01,\n        -1.18433863e+00,  5.48384890e-02,  1.60177550e-01,\n        -9.70428946e-01,  1.96663929e-01,  7.22437680e-01,\n        -3.36342544e-01,  3.84053069e-01,  3.89684934e-02,\n         1.81968931e-01, -8.97504028e-01, -6.09043295e-01,\n         6.18187333e-02,  5.74191539e-01],\n       [ 8.10633533e-01, -3.85858012e-01, -2.30387911e-01,\n        -7.27775681e-01, -6.06853546e-01, -4.57154868e-01,\n        -3.18769228e-01, -4.39434030e-01,  8.41562396e-02,\n        -2.04825646e-01, -1.22067150e-01, -1.63912489e-02,\n         4.06450020e-01,  1.74094812e-04, -6.24924923e-01,\n         9.52738324e-01,  5.66608732e-01,  3.17992190e-01,\n        -2.27797112e-01,  4.15030341e-01],\n       [ 3.82953128e-01, -7.19261008e-02,  1.14074217e+00,\n         1.95795376e+00,  4.12888640e-01, -1.54806023e+00,\n         1.33459851e-01, -6.84506647e-01, -1.43567026e-01,\n        -7.36428564e-02, -4.67832605e-01,  6.85070641e-01,\n         1.97332874e-02,  1.86768390e-02,  5.04787916e-01,\n         5.51971861e-01,  1.44676595e+00, -4.60856303e-01,\n         2.95815223e-01,  8.35181400e-01],\n       [-9.17668966e-01,  1.84296157e+00, -4.27830607e-01,\n        -8.92548978e-01, -7.59947087e-01,  1.14301281e+00,\n         8.61454870e-01,  1.14280528e+00,  3.63469946e-02,\n        -2.44308034e-01, -3.44671551e-01, -7.96794352e-01,\n         1.19384346e-01,  6.38315349e-01,  4.29219403e-01,\n        -7.42079138e-01, -1.23727088e+00,  6.58142221e-01,\n         3.84396668e-01, -1.04360684e-01],\n       [ 2.60362874e-01, -4.51494547e-01, -1.42027491e-01,\n        -3.78167104e-01,  7.95861551e-01,  2.31749014e-01,\n         2.05338153e-03, -8.48977093e-01,  1.71577188e-02,\n         3.93700343e-02,  4.59044356e-01,  6.68982979e-02,\n         7.12474628e-01, -4.27163839e-01,  3.81562178e-01,\n         2.85011566e-01,  7.56555559e-02, -1.37582659e-01,\n        -5.15886060e-01,  5.68183807e-02],\n       [-4.88735910e-01,  1.73611167e+00, -2.50758308e-01,\n        -6.24941444e-01,  2.58600433e-01,  1.41785791e-01,\n        -2.65279998e-02, -2.72235185e-02,  3.70639281e-01,\n        -2.63877775e-01,  2.38150243e-01, -6.28203370e-01,\n        -5.00440697e-01,  3.81548243e-01,  2.91095986e-01,\n        -1.01395108e+00, -3.85340459e-01, -1.91739745e-01,\n        -9.15109077e-01, -1.03468935e-01]])"
     },
     "execution_count": 20,
     "metadata": {},
     "output_type": "execute_result"
    }
   ],
   "source": [
    "log_reg.coef_"
   ],
   "metadata": {
    "collapsed": false,
    "ExecuteTime": {
     "end_time": "2024-03-03T19:34:12.598285Z",
     "start_time": "2024-03-03T19:34:12.590979Z"
    }
   }
  },
  {
   "cell_type": "code",
   "execution_count": 21,
   "outputs": [
    {
     "data": {
      "text/plain": "<Axes: ylabel='Feature'>"
     },
     "execution_count": 21,
     "metadata": {},
     "output_type": "execute_result"
    },
    {
     "data": {
      "text/plain": "<Figure size 1000x600 with 1 Axes>",
      "image/png": "[encoded data removed]"
     },
     "metadata": {},
     "output_type": "display_data"
    }
   ],
   "source": [
    "avg_importance = np.mean(np.abs(log_reg.coef_), axis=0)\n",
    "feature_importance = pd.DataFrame({'Feature': np.arange(log_reg.coef_.shape[1]), 'Importance': avg_importance})\n",
    "feature_importance = feature_importance.sort_values('Importance', ascending=False)\n",
    "feature_importance.plot(x='Feature', y='Importance', kind='barh', figsize=(10, 6))"
   ],
   "metadata": {
    "collapsed": false,
    "ExecuteTime": {
     "end_time": "2024-03-03T19:34:32.454358Z",
     "start_time": "2024-03-03T19:34:32.096471Z"
    }
   }
  },
  {
   "cell_type": "markdown",
   "source": [
    "# Part B) Running PCA on Spambase"
   ],
   "metadata": {
    "collapsed": false
   }
  },
  {
   "cell_type": "code",
   "execution_count": 27,
   "outputs": [],
   "source": [
    "spambase_X_train, spambase_X_test, spambase_y_train, spambase_y_test = train_test_split(spambase.iloc[:, :-1], spambase.iloc[:, -1], test_size=0.2, stratify=spambase.iloc[:, -1])"
   ],
   "metadata": {
    "collapsed": false,
    "ExecuteTime": {
     "end_time": "2024-03-03T19:45:42.261143Z",
     "start_time": "2024-03-03T19:45:42.241150Z"
    }
   }
  },
  {
   "cell_type": "code",
   "execution_count": 28,
   "outputs": [
    {
     "data": {
      "text/plain": "LogisticRegression()",
      "text/html": "<style>#sk-container-id-5 {color: black;}#sk-container-id-5 pre{padding: 0;}#sk-container-id-5 div.sk-toggleable {background-color: white;}#sk-container-id-5 label.sk-toggleable__label {cursor: pointer;display: block;width: 100%;margin-bottom: 0;padding: 0.3em;box-sizing: border-box;text-align: center;}#sk-container-id-5 label.sk-toggleable__label-arrow:before {content: \"▸\";float: left;margin-right: 0.25em;color: #696969;}#sk-container-id-5 label.sk-toggleable__label-arrow:hover:before {color: black;}#sk-container-id-5 div.sk-estimator:hover label.sk-toggleable__label-arrow:before {color: black;}#sk-container-id-5 div.sk-toggleable__content {max-height: 0;max-width: 0;overflow: hidden;text-align: left;background-color: #f0f8ff;}#sk-container-id-5 div.sk-toggleable__content pre {margin: 0.2em;color: black;border-radius: 0.25em;background-color: #f0f8ff;}#sk-container-id-5 input.sk-toggleable__control:checked~div.sk-toggleable__content {max-height: 200px;max-width: 100%;overflow: auto;}#sk-container-id-5 input.sk-toggleable__control:checked~label.sk-toggleable__label-arrow:before {content: \"▾\";}#sk-container-id-5 div.sk-estimator input.sk-toggleable__control:checked~label.sk-toggleable__label {background-color: #d4ebff;}#sk-container-id-5 div.sk-label input.sk-toggleable__control:checked~label.sk-toggleable__label {background-color: #d4ebff;}#sk-container-id-5 input.sk-hidden--visually {border: 0;clip: rect(1px 1px 1px 1px);clip: rect(1px, 1px, 1px, 1px);height: 1px;margin: -1px;overflow: hidden;padding: 0;position: absolute;width: 1px;}#sk-container-id-5 div.sk-estimator {font-family: monospace;background-color: #f0f8ff;border: 1px dotted black;border-radius: 0.25em;box-sizing: border-box;margin-bottom: 0.5em;}#sk-container-id-5 div.sk-estimator:hover {background-color: #d4ebff;}#sk-container-id-5 div.sk-parallel-item::after {content: \"\";width: 100%;border-bottom: 1px solid gray;flex-grow: 1;}#sk-container-id-5 div.sk-label:hover label.sk-toggleable__label {background-color: #d4ebff;}#sk-container-id-5 div.sk-serial::before {content: \"\";position: absolute;border-left: 1px solid gray;box-sizing: border-box;top: 0;bottom: 0;left: 50%;z-index: 0;}#sk-container-id-5 div.sk-serial {display: flex;flex-direction: column;align-items: center;background-color: white;padding-right: 0.2em;padding-left: 0.2em;position: relative;}#sk-container-id-5 div.sk-item {position: relative;z-index: 1;}#sk-container-id-5 div.sk-parallel {display: flex;align-items: stretch;justify-content: center;background-color: white;position: relative;}#sk-container-id-5 div.sk-item::before, #sk-container-id-5 div.sk-parallel-item::before {content: \"\";position: absolute;border-left: 1px solid gray;box-sizing: border-box;top: 0;bottom: 0;left: 50%;z-index: -1;}#sk-container-id-5 div.sk-parallel-item {display: flex;flex-direction: column;z-index: 1;position: relative;background-color: white;}#sk-container-id-5 div.sk-parallel-item:first-child::after {align-self: flex-end;width: 50%;}#sk-container-id-5 div.sk-parallel-item:last-child::after {align-self: flex-start;width: 50%;}#sk-container-id-5 div.sk-parallel-item:only-child::after {width: 0;}#sk-container-id-5 div.sk-dashed-wrapped {border: 1px dashed gray;margin: 0 0.4em 0.5em 0.4em;box-sizing: border-box;padding-bottom: 0.4em;background-color: white;}#sk-container-id-5 div.sk-label label {font-family: monospace;font-weight: bold;display: inline-block;line-height: 1.2em;}#sk-container-id-5 div.sk-label-container {text-align: center;}#sk-container-id-5 div.sk-container {/* jupyter's `normalize.less` sets `[hidden] { display: none; }` but bootstrap.min.css set `[hidden] { display: none !important; }` so we also need the `!important` here to be able to override the default hidden behavior on the sphinx rendered scikit-learn.org. See: https://github.com/scikit-learn/scikit-learn/issues/21755 */display: inline-block !important;position: relative;}#sk-container-id-5 div.sk-text-repr-fallback {display: none;}</style><div id=\"sk-container-id-5\" class=\"sk-top-container\"><div class=\"sk-text-repr-fallback\"><pre>LogisticRegression()</pre><b>In a Jupyter environment, please rerun this cell to show the HTML representation or trust the notebook. <br />On GitHub, the HTML representation is unable to render, please try loading this page with nbviewer.org.</b></div><div class=\"sk-container\" hidden><div class=\"sk-item\"><div class=\"sk-estimator sk-toggleable\"><input class=\"sk-toggleable__control sk-hidden--visually\" id=\"sk-estimator-id-5\" type=\"checkbox\" checked><label for=\"sk-estimator-id-5\" class=\"sk-toggleable__label sk-toggleable__label-arrow\">LogisticRegression</label><div class=\"sk-toggleable__content\"><pre>LogisticRegression()</pre></div></div></div></div></div>"
     },
     "execution_count": 28,
     "metadata": {},
     "output_type": "execute_result"
    }
   ],
   "source": [
    "log_reg = LogisticRegression()\n",
    "log_reg.fit(spambase_X_train, spambase_y_train)"
   ],
   "metadata": {
    "collapsed": false,
    "ExecuteTime": {
     "end_time": "2024-03-03T19:45:42.703671Z",
     "start_time": "2024-03-03T19:45:42.638991Z"
    }
   }
  },
  {
   "cell_type": "code",
   "execution_count": 29,
   "outputs": [
    {
     "name": "stdout",
     "output_type": "stream",
     "text": [
      "0.9029535864978903\n"
     ]
    }
   ],
   "source": [
    "y_pred = log_reg.predict(spambase_X_test)\n",
    "print(f1_score(spambase_y_test, y_pred))"
   ],
   "metadata": {
    "collapsed": false,
    "ExecuteTime": {
     "end_time": "2024-03-03T19:45:43.724177Z",
     "start_time": "2024-03-03T19:45:43.712131Z"
    }
   }
  },
  {
   "cell_type": "code",
   "execution_count": 30,
   "outputs": [
    {
     "name": "stdout",
     "output_type": "stream",
     "text": [
      "F1-score obtained by running logistic regression on spambase data with 5 is 0.8281938325991189\n",
      "F1-score obtained by running logistic regression on spambase data with 10 is 0.8795518207282913\n",
      "F1-score obtained by running logistic regression on spambase data with 15 is 0.875\n",
      "F1-score obtained by running logistic regression on spambase data with 20 is 0.8895265423242468\n",
      "F1-score obtained by running logistic regression on spambase data with 25 is 0.8960674157303371\n",
      "F1-score obtained by running logistic regression on spambase data with 30 is 0.8834532374100719\n",
      "F1-score obtained by running logistic regression on spambase data with 35 is 0.8719424460431655\n",
      "F1-score obtained by running logistic regression on spambase data with 40 is 0.8983516483516483\n",
      "F1-score obtained by running logistic regression on spambase data with 45 is 0.9090909090909092\n",
      "F1-score obtained by running logistic regression on spambase data with 50 is 0.8873239436619718\n",
      "F1-score obtained by running logistic regression on spambase data with 55 is 0.8923512747875354\n"
     ]
    }
   ],
   "source": [
    "# dimension Reduction using PCA\n",
    "for components in range(5, len(spambase.columns[:-1]), 5):\n",
    "    # Train/test split of spambase dataset\n",
    "    spambase_X = PCA(n_components=components).fit_transform(spambase.iloc[:, :-1])\n",
    "    spambase_y = spambase.iloc[:, -1]\n",
    "    spambase_X_train, spambase_X_test, spambase_y_train, spambase_y_test = train_test_split(spambase_X, spambase_y, test_size=0.2, stratify=spambase_y)\n",
    "    log_reg = LogisticRegression()\n",
    "    log_reg.fit(spambase_X_train, spambase_y_train)\n",
    "    # computing performance on test set\n",
    "    y_pred = log_reg.predict(spambase_X_test)\n",
    "    print(f\"F1-score obtained by running logistic regression on spambase data with {components} is {f1_score(spambase_y_test, y_pred)}\")\n"
   ],
   "metadata": {
    "collapsed": false,
    "ExecuteTime": {
     "end_time": "2024-03-03T19:45:45.811231Z",
     "start_time": "2024-03-03T19:45:45.086170Z"
    }
   }
  },
  {
   "cell_type": "code",
   "execution_count": null,
   "outputs": [],
   "source": [],
   "metadata": {
    "collapsed": false
   }
  }
 ],
 "metadata": {
  "kernelspec": {
   "display_name": "Python 3",
   "language": "python",
   "name": "python3"
  },
  "language_info": {
   "codemirror_mode": {
    "name": "ipython",
    "version": 2
   },
   "file_extension": ".py",
   "mimetype": "text/x-python",
   "name": "python",
   "nbconvert_exporter": "python",
   "pygments_lexer": "ipython2",
   "version": "2.7.6"
  }
 },
 "nbformat": 4,
 "nbformat_minor": 0
}
